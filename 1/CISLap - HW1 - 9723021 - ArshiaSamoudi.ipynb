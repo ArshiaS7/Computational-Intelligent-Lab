{
  "nbformat": 4,
  "nbformat_minor": 0,
  "metadata": {
    "colab": {
      "name": "CISLab HW1.ipynb",
      "provenance": []
    },
    "kernelspec": {
      "name": "python3",
      "display_name": "Python 3"
    },
    "language_info": {
      "name": "python"
    }
  },
  "cells": [
    {
      "cell_type": "code",
      "metadata": {
        "id": "jLyBp_L1jdBp"
      },
      "source": [
        "import sys\n",
        "import numpy as np\n",
        "import matplotlib.pyplot as plt\n",
        "import random"
      ],
      "execution_count": 2,
      "outputs": []
    },
    {
      "cell_type": "code",
      "metadata": {
        "colab": {
          "base_uri": "https://localhost:8080/",
          "height": 314
        },
        "id": "n-QblOQ9JWFO",
        "outputId": "0805d7d1-9446-4069-dcf8-c04d76199f43"
      },
      "source": [
        "def activation_function(x):\n",
        "    if x >= 0:\n",
        "        return 1\n",
        "    elif x < 0:\n",
        "        return 0\n",
        "\n",
        "\n",
        "class SLP:\n",
        "\n",
        "  def __init__(self,x,y,learning_rate = 0.1):\n",
        "    self.x = x\n",
        "    self.y = y\n",
        "    self.learning_rate = learning_rate\n",
        "\n",
        "\n",
        "  def fit(self):\n",
        "\n",
        "    l = np.ones((self.x.shape[0],1))\n",
        "    self.x = np.hstack((l,x)) # the bias is always one\n",
        "\n",
        "    weights = []\n",
        "    n = 10 # how many times the machine learns\n",
        "    Test_setLength = self.x.shape[0]\n",
        "\n",
        "    # initialize with 3 random weights between 0 and 1, one for each input and one for the bias\n",
        "    for i in range(self.x.shape[1]):\n",
        "        weights.append(random.uniform(0, 1))\n",
        "\n",
        "    self.pred = np.array([])\n",
        "    for i in range(Test_setLength):\n",
        "      self.pred = np.append(self.pred, 0)\n",
        "\n",
        "    for i in range(n):\n",
        "      for j in range(Test_setLength):\n",
        "        inputs = self.x[j,:]\n",
        "        expected_output = self.y[j]\n",
        "        net = np.dot(inputs, weights)\n",
        "        self.pred[j] = activation_function(net) # find the sign of the net\n",
        "        error = expected_output - self.pred[j]\n",
        "        weights += self.learning_rate * error * np.asarray(inputs) # change the weights to include the error times input, won't change if there's no error\n",
        "\n",
        "    line_x = [0 , 1]\n",
        "    line_y = [-weights[0]/weights[2] , -weights[0]/weights[2] - weights[1]/weights[2]]\n",
        "\n",
        "    plt.figure()\n",
        "    plt.scatter(x[:,0],x[:,1])\n",
        "    plt.plot(line_x,line_y)\n",
        "    plt.xlabel(f\"$x_1$\")\n",
        "    plt.ylabel(f\"$x_2$\")\n",
        "    plt.title(f\"$w_0 = {weights[0]:.3f},w_1 = {weights[1]},w_2 = {weights[2]},$\")\n",
        "\n",
        "    print(weights)\n",
        "\n",
        "\n",
        "  def predict(self, x):\n",
        "    predict = []\n",
        "    for i in range(Test_setLength):\n",
        "      predict.append(self.pred[i])\n",
        "    print('predict: ', predict)\n",
        "\n",
        "\n",
        "  def evaluate(self, x, y):\n",
        "    print('inputs\\t\\ttarget\\t\\tpredict')\n",
        "    e = 0\n",
        "    for i in range(Test_setLength):\n",
        "      print(x[i, :], '\\t\\t',y[i], '\\t\\t', int(self.pred[i]))\n",
        "      if y[i] != self.pred[i]:\n",
        "        e += 1\n",
        "    accuracy = ((Test_setLength - e)/Test_setLength)*100\n",
        "    print('accuracy:', int(accuracy), '%')\n",
        "    \n",
        "\n",
        "    \n",
        "\n",
        "  \n",
        "\n",
        "x = np.array([[0,0],[0,1],[1,0],[1,1]])\n",
        "y = np.array([[0],[1],[1],[1]])\n",
        "\n",
        "\n",
        "c1 = SLP(x,y,0.3)\n",
        "c1.fit()\n",
        "\n",
        "\n",
        "\n"
      ],
      "execution_count": 3,
      "outputs": [
        {
          "output_type": "stream",
          "name": "stdout",
          "text": [
            "[-0.15434388  0.92849725  0.97071668]\n"
          ]
        },
        {
          "output_type": "display_data",
          "data": {
            "image/png": "[encoded data removed]",
            "text/plain": [
              "<Figure size 432x288 with 1 Axes>"
            ]
          },
          "metadata": {
            "needs_background": "light"
          }
        }
      ]
    }
  ]
}