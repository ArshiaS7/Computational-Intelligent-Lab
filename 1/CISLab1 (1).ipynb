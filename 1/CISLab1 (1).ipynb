{
  "nbformat": 4,
  "nbformat_minor": 0,
  "metadata": {
    "colab": {
      "name": "CISLab1.ipynb",
      "provenance": [],
      "collapsed_sections": []
    },
    "kernelspec": {
      "name": "python3",
      "display_name": "Python 3"
    },
    "language_info": {
      "name": "python"
    }
  },
  "cells": [
    {
      "cell_type": "markdown",
      "metadata": {
        "id": "iVlh3CX6D_-6"
      },
      "source": [
        "MATLAB Plot Lib"
      ]
    },
    {
      "cell_type": "code",
      "metadata": {
        "id": "KBMtLMInCVQ3"
      },
      "source": [
        "import matplotlib.pyplot as plt"
      ],
      "execution_count": null,
      "outputs": []
    },
    {
      "cell_type": "code",
      "metadata": {
        "colab": {
          "base_uri": "https://localhost:8080/",
          "height": 281
        },
        "id": "lwApMn9XC25i",
        "outputId": "a2df37fd-1f35-43f1-8af3-fba7bce13055"
      },
      "source": [
        "x = [0 , 1 , 4 , 6]\n",
        "y = [4 , 5 , 9 , 38]\n",
        "\n",
        "\n",
        "plt.figure()\n",
        "plt.plot(x,y,'r--x')\n",
        "plt.title('CI LAB')\n",
        "plt.xticks(x)\n",
        "plt.yticks(x)\n",
        "plt.grid()\n",
        "plt.show()"
      ],
      "execution_count": null,
      "outputs": [
        {
          "output_type": "display_data",
          "data": {
            "image/png": "[encoded data removed]",
            "text/plain": [
              "<Figure size 432x288 with 1 Axes>"
            ]
          },
          "metadata": {
            "needs_background": "light"
          }
        }
      ]
    },
    {
      "cell_type": "markdown",
      "metadata": {
        "id": "NjgbssaREGbW"
      },
      "source": [
        "Numpy"
      ]
    },
    {
      "cell_type": "code",
      "metadata": {
        "id": "EI3Wx80wDssr"
      },
      "source": [
        "import numpy as np"
      ],
      "execution_count": null,
      "outputs": []
    },
    {
      "cell_type": "code",
      "metadata": {
        "colab": {
          "base_uri": "https://localhost:8080/"
        },
        "id": "h5ZxF1pfEdAA",
        "outputId": "b5583765-cb07-412e-cfee-2708c7a4d7a5"
      },
      "source": [
        "a = [1 , 2 , 3]\n",
        "b = [4 , 5 , 6]\n",
        "print(a+b)"
      ],
      "execution_count": null,
      "outputs": [
        {
          "output_type": "stream",
          "name": "stdout",
          "text": [
            "[1, 2, 3, 4, 5, 6]\n"
          ]
        }
      ]
    },
    {
      "cell_type": "code",
      "metadata": {
        "colab": {
          "base_uri": "https://localhost:8080/"
        },
        "id": "cjgGNhplEOUh",
        "outputId": "a8dfa590-3b39-4eeb-8e0f-3be5df03caac"
      },
      "source": [
        "a = np.array([1 , 2 , 3])\n",
        "b = np.array([4 , 5 , 6])\n",
        "print(a+b)\n",
        "\n",
        "\n",
        "e = np.sin(a)\n",
        "f = np.ones((4,6))\n",
        "g = np.zeros((3,2))\n",
        "h = np.ones_like(g)\n",
        "\n",
        "i = np.random.rand(5,2)\n",
        "\n"
      ],
      "execution_count": null,
      "outputs": [
        {
          "output_type": "stream",
          "name": "stdout",
          "text": [
            "[5 7 9]\n",
            "[[0.8494227  0.08011558]\n",
            " [0.11683398 0.62355467]\n",
            " [0.27554296 0.34780552]\n",
            " [0.24086497 0.39624976]\n",
            " [0.92709951 0.0632093 ]]\n"
          ]
        }
      ]
    },
    {
      "cell_type": "code",
      "metadata": {
        "colab": {
          "base_uri": "https://localhost:8080/"
        },
        "id": "pTICtRwOEbvO",
        "outputId": "9e96786b-e1f8-4062-f6ab-0efdfc5a8cf9"
      },
      "source": [
        "j = np.array([1,2,3])\n",
        "print(j.shape)  \n",
        "\n",
        "\n",
        "k = np.array([[1,2,3],[4 ,5 ,6]])\n",
        "print(k.shape)\n",
        "\n",
        "print(k)\n",
        "print('my desired element is: ',k[1][0])\n",
        "print('my desired element is: ',k[1,0])\n",
        "\n",
        "print('my desired element is: ',k[:,1])\n",
        "\n",
        "k[:,1:2]\n",
        "k[:,1:3]"
      ],
      "execution_count": null,
      "outputs": [
        {
          "output_type": "stream",
          "name": "stdout",
          "text": [
            "(3,)\n",
            "(2, 3)\n",
            "[[1 2 3]\n",
            " [4 5 6]]\n",
            "my desired element is:  4\n",
            "my desired element is:  4\n",
            "my desired element is:  [2 5]\n"
          ]
        },
        {
          "output_type": "execute_result",
          "data": {
            "text/plain": [
              "array([[2, 3],\n",
              "       [5, 6]])"
            ]
          },
          "metadata": {},
          "execution_count": 23
        }
      ]
    },
    {
      "cell_type": "markdown",
      "metadata": {
        "id": "g16jnzAwHdwO"
      },
      "source": [
        "Task"
      ]
    },
    {
      "cell_type": "markdown",
      "metadata": {
        "id": "7oh21LVZKcH8"
      },
      "source": [
        "$ f(x) = ax^3 + bx^2 + csin(x) + d $"
      ]
    },
    {
      "cell_type": "code",
      "metadata": {
        "colab": {
          "base_uri": "https://localhost:8080/",
          "height": 285
        },
        "id": "2hVafsurHpFg",
        "outputId": "161a4de3-7e28-4a1a-90a0-c3cb1ca9586c"
      },
      "source": [
        "def plotIt(a,b,c,d):\n",
        "  num = 100\n",
        "  x = np.linspace(-5, 5, num, endpoint=True)\n",
        "  f = a*np.power(x,3) + b*np.power(x,2) + c*np.sin(x) + d\n",
        "  \n",
        "  plt.figure()\n",
        "  plt.plot(x,f)\n",
        "  plt.title(f\"$f(x) = {a}x^2 + {b}x^2 + {c}sin(x) + d$\")\n",
        "  plt.show()\n",
        "\n",
        "plotIt(1,2,6,4)\n"
      ],
      "execution_count": null,
      "outputs": [
        {
          "output_type": "display_data",
          "data": {
            "image/png": "[encoded data removed]",
            "text/plain": [
              "<Figure size 432x288 with 1 Axes>"
            ]
          },
          "metadata": {
            "needs_background": "light"
          }
        }
      ]
    },
    {
      "cell_type": "markdown",
      "metadata": {
        "id": "X7OxzS-7cpZu"
      },
      "source": [
        "Single Layer Perceptron"
      ]
    },
    {
      "cell_type": "code",
      "metadata": {
        "id": "jLyBp_L1jdBp"
      },
      "source": [
        "import sys\n",
        "import numpy as np\n",
        "import matplotlib.pyplot as plt\n",
        "import random"
      ],
      "execution_count": null,
      "outputs": []
    },
    {
      "cell_type": "code",
      "metadata": {
        "colab": {
          "base_uri": "https://localhost:8080/",
          "height": 314
        },
        "id": "n-QblOQ9JWFO",
        "outputId": "9863a51c-8952-4137-c64e-d0edc75771cd"
      },
      "source": [
        "def activation_function(x):\n",
        "    if x >= 0:\n",
        "        return 1\n",
        "    elif x < 0:\n",
        "        return 0\n",
        "\n",
        "\n",
        "class SLP:\n",
        "\n",
        "  def __init__(self,x,y,learning_rate = 0.1):\n",
        "    self.x = x\n",
        "    self.y = y\n",
        "    self.learning_rate = learning_rate\n",
        "\n",
        "\n",
        "  def fit(self):\n",
        "\n",
        "    l = np.ones((self.x.shape[0],1))\n",
        "    self.x = np.hstack((l,x)) # the bias is always one\n",
        "\n",
        "    weights = []\n",
        "    n = 10 # how many times the machine learns\n",
        "    Test_setLength = self.x.shape[0]\n",
        "\n",
        "    # initialize with 3 random weights between 0 and 1, one for each input and one for the bias\n",
        "    for i in range(self.x.shape[1]):\n",
        "        weights.append(random.uniform(0, 1))\n",
        "\n",
        "    self.pred = np.array([])\n",
        "    for i in range(Test_setLength):\n",
        "      self.pred = np.append(self.pred, 0)\n",
        "\n",
        "    for i in range(n):\n",
        "      for j in range(Test_setLength):\n",
        "        inputs = self.x[j,:]\n",
        "        expected_output = self.y[j]\n",
        "        net = np.dot(inputs, weights)\n",
        "        self.pred[j] = activation_function(net) # find the sign of the net\n",
        "        error = expected_output - self.pred[j]\n",
        "        weights += self.learning_rate * error * np.asarray(inputs) # change the weights to include the error times input, won't change if there's no error\n",
        "\n",
        "    line_x = [0 , 1]\n",
        "    line_y = [-weights[0]/weights[2] , -weights[0]/weights[2] - weights[1]/weights[2]]\n",
        "\n",
        "    plt.figure()\n",
        "    plt.scatter(x[:,0],x[:,1])\n",
        "    plt.plot(line_x,line_y)\n",
        "    plt.xlabel(f\"$x_1$\")\n",
        "    plt.ylabel(f\"$x_2$\")\n",
        "    plt.title(f\"$w_0 = {weights[0]:.3f},w_1 = {weights[1]},w_2 = {weights[2]},$\")\n",
        "\n",
        "    print(weights)\n",
        "\n",
        "\n",
        "  def predict(self, x):\n",
        "    predict = []\n",
        "    for i in range(Test_setLength):\n",
        "      predict.append(self.pred[i])\n",
        "    print('predict: ', predict)\n",
        "\n",
        "\n",
        "  def evaluate(self, x, y):\n",
        "    print('inputs\\t\\ttarget\\t\\tpredict')\n",
        "    e = 0\n",
        "    for i in range(Test_setLength):\n",
        "      print(x[i, :], '\\t\\t',y[i], '\\t\\t', int(self.pred[i]))\n",
        "      if y[i] != self.pred[i]:\n",
        "        e += 1\n",
        "    accuracy = ((Test_setLength - e)/Test_setLength)*100\n",
        "    print('accuracy:', int(accuracy), '%')\n",
        "    \n",
        "\n",
        "    \n",
        "\n",
        "  \n",
        "\n",
        "x = np.array([[0,0],[0,1],[1,0],[1,1]])\n",
        "y = np.array([[0],[1],[1],[1]])\n",
        "\n",
        "\n",
        "c1 = SLP(x,y,0.3)\n",
        "c1.fit()\n",
        "\n",
        "\n",
        "\n"
      ],
      "execution_count": null,
      "outputs": [
        {
          "output_type": "stream",
          "name": "stdout",
          "text": [
            "[-0.07406755  0.96440461  0.68699086]\n"
          ]
        },
        {
          "output_type": "display_data",
          "data": {
            "image/png": "[encoded data removed]",
            "text/plain": [
              "<Figure size 432x288 with 1 Axes>"
            ]
          },
          "metadata": {
            "needs_background": "light"
          }
        }
      ]
    },
    {
      "cell_type": "code",
      "metadata": {
        "id": "QdcFrmIrewiw"
      },
      "source": [
        ""
      ],
      "execution_count": null,
      "outputs": []
    }
  ]
}