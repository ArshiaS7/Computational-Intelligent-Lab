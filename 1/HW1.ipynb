{
  "nbformat": 4,
  "nbformat_minor": 0,
  "metadata": {
    "colab": {
      "name": "HW1.ipynb",
      "provenance": [],
      "collapsed_sections": []
    },
    "kernelspec": {
      "name": "python3",
      "display_name": "Python 3"
    },
    "language_info": {
      "name": "python"
    }
  },
  "cells": [
    {
      "cell_type": "code",
      "metadata": {
        "id": "uInTvQf21bky"
      },
      "source": [
        "import numpy as np\n",
        "import random"
      ],
      "execution_count": 4,
      "outputs": []
    },
    {
      "cell_type": "code",
      "metadata": {
        "colab": {
          "base_uri": "https://localhost:8080/"
        },
        "id": "3WdtYnf3LmRu",
        "outputId": "75c56bfb-f08f-48bf-ad4c-ad5a3e28035b"
      },
      "source": [
        "class SLP:\n",
        "  def __init__(self, X, y, learning_rate=0.1, n=15):\n",
        "    self.X = X\n",
        "    self.y = y\n",
        "    self.learning_rate = learning_rate\n",
        "    self.n = n\n",
        "    \n",
        "    firstColumn = np.ones((self.X.shape[0], 1))\n",
        "    self.X = np.hstack((firstColumn, X))\n",
        "\n",
        "    self.weights = np.array([])\n",
        "  \n",
        "  def activationFunc(self, net):\n",
        "    if net >= 0:\n",
        "      return 1\n",
        "    elif net < 0:\n",
        "      return 0\n",
        "\n",
        "  def printOut(self):\n",
        "    #print(self.X)\n",
        "    #print(self.y)\n",
        "    print(self.weights)\n",
        "  \n",
        "  def fit(self):\n",
        "    for i in range(self.X.shape[1]):\n",
        "      self.weights = np.append(self.weights, [random.uniform(0,1)])\n",
        "\n",
        "    self.pred = np.array([])\n",
        "    for i in range(self.X.shape[0]):\n",
        "      self.pred = np.append(self.pred, 0)\n",
        "\n",
        "    for i in range(self.n):\n",
        "      for j in range(self.X.shape[0]):\n",
        "        inputs = self.X[j, :]\n",
        "        target = self.y[j]\n",
        "        net = np.dot(inputs, self.weights)\n",
        "        self.pred[j] = self.activationFunc(net)\n",
        "        error = target - self.pred[j]\n",
        "        self.weights += self.learning_rate*error*inputs\n",
        "\n",
        "  \n",
        "  def predict(self, X):\n",
        "    predict = []\n",
        "    for i in range(X.shape[0]):\n",
        "      predict.append(self.pred[i])\n",
        "    print('predict: ', predict)\n",
        "  \n",
        "  def evaluate(self, X, y):\n",
        "    print('inputs\\t\\ttarget\\t\\tpredict')\n",
        "    e = 0\n",
        "    for i in range(X.shape[0]):\n",
        "      print(X[i, :], '\\t\\t',y[i], '\\t\\t', int(self.pred[i]))\n",
        "      if y[i] != self.pred[i]:\n",
        "        e += 1\n",
        "    accuracy = ((X.shape[0] - e)/X.shape[0])*100\n",
        "    print('accuracy:', int(accuracy), '%')\n",
        "\n",
        "\n",
        "    \n",
        "\n",
        "\n",
        "X = np.array([[0, 0],\n",
        "              [0, 1],\n",
        "              [1, 0],\n",
        "              [1, 1]])\n",
        "y = np.array([0, 1, 1, 1])\n",
        "my_slp = SLP(X, y, 0.3, 5)\n",
        "x = np.array([[0, 0],\n",
        "              [0, 1]])\n",
        "y1 = np.array([0, 1])\n",
        "my_slp.fit()\n",
        "my_slp.predict(x)\n",
        "my_slp.evaluate(x,y1)\n"
      ],
      "execution_count": 5,
      "outputs": [
        {
          "output_type": "stream",
          "name": "stdout",
          "text": [
            "predict:  [0.0, 1.0]\n",
            "inputs\t\ttarget\t\tpredict\n",
            "[0 0] \t\t 0 \t\t 0\n",
            "[0 1] \t\t 1 \t\t 1\n",
            "accuracy: 100 %\n"
          ]
        }
      ]
    }
  ]
}