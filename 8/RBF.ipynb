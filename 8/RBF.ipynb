{
  "nbformat": 4,
  "nbformat_minor": 0,
  "metadata": {
    "colab": {
      "name": "RBF.ipynb",
      "provenance": [],
      "collapsed_sections": []
    },
    "kernelspec": {
      "name": "python3",
      "display_name": "Python 3"
    },
    "language_info": {
      "name": "python"
    }
  },
  "cells": [
    {
      "cell_type": "code",
      "metadata": {
        "id": "p8nF6eNsURgF"
      },
      "source": [
        "import numpy as np\n",
        "from matplotlib import pyplot as plt\n",
        "from scipy.spatial.distance import cdist"
      ],
      "execution_count": null,
      "outputs": []
    },
    {
      "cell_type": "code",
      "metadata": {
        "id": "Kxxb5iEBUXHQ"
      },
      "source": [
        "def gussian(x, c, d):\n",
        "    return np.exp(-(x - c)**2/(2 * d ** 2))"
      ],
      "execution_count": null,
      "outputs": []
    },
    {
      "cell_type": "code",
      "metadata": {
        "id": "TGyitHwTlBSj"
      },
      "source": [
        "def KMeans(X, k):\n",
        "    clusters = np.random.choice(np.squeeze(X), size=k)\n",
        "    prevClusters = clusters.copy()\n",
        "    converged = False\n",
        "\n",
        "    while not converged:\n",
        "        distances = np.squeeze(np.abs(X[:, np.newaxis] - clusters[np.newaxis, :]))\n",
        "        # find the cluster that's closest to each point\n",
        "        closestCluster = np.argmin(distances, axis=1)\n",
        " \n",
        "        # update clusters by taking the mean of all of the points assigned to that cluster\n",
        "        for i in range(k):\n",
        "            pointsForCluster = X[closestCluster == i]\n",
        "            if len(pointsForCluster) > 0:\n",
        "                clusters[i] = np.mean(pointsForCluster, axis=0)\n",
        " \n",
        "        # converge if clusters haven't moved\n",
        "        converged = np.linalg.norm(clusters - prevClusters) < 1e-6\n",
        "        prevClusters = clusters.copy()\n",
        " \n",
        "    distances = np.squeeze(np.abs(X[:, np.newaxis] - clusters[np.newaxis, :]))\n",
        "    closestCluster = np.argmin(distances, axis=1)\n",
        " \n",
        "    clustersWithNoPoints = []\n",
        "    for i in range(k):\n",
        "        pointsForCluster = X[closestCluster == i]\n",
        "        \n",
        " \n",
        "    # if there are clusters with 0 or 1 points, take the mean std of the other clusters\n",
        "    if len(clustersWithNoPoints) > 0:\n",
        "        pointsToAverage = []\n",
        "        for i in range(k):\n",
        "            if i not in clustersWithNoPoints:\n",
        "                pointsToAverage.append(X[closestCluster == i])\n",
        "        pointsToAverage = np.concatenate(pointsToAverage).ravel()       \n",
        " \n",
        "    return clusters"
      ],
      "execution_count": null,
      "outputs": []
    },
    {
      "cell_type": "code",
      "metadata": {
        "id": "MAxeGFqhUuYA"
      },
      "source": [
        "# def KMeans(x,k):\n",
        "      \n",
        "#     #Random Centroids\n",
        "#     centroids = x[np.random.choice(x.shape[0], k,replace= False)]\n",
        "\n",
        "#     #Clusters's Distance From 2D-points\n",
        "#     distance = cdist(x, centroids ,'euclidean') \n",
        "    \n",
        "#     #Label Assignment to K Clusters\n",
        "#     label = np.array([np.argmin(i) for i in distance]) \n",
        "    \n",
        "#     iterations = 100\n",
        "#     for i in range(iterations): \n",
        "#       centroids = []\n",
        "#       for icluster in range(k):\n",
        "#         #Updating Centroids by taking mean of Cluster it belongs to\n",
        "#         centroids.append(np.array(x)[label == icluster].mean(axis=0))\n",
        "        \n",
        "#       distances = cdist(x, centroids ,'euclidean')\n",
        "#       label = np.array([np.argmin(i) for i in distances])\n",
        "        \n",
        "#     return centroids"
      ],
      "execution_count": null,
      "outputs": []
    },
    {
      "cell_type": "code",
      "metadata": {
        "id": "q7aCI9YGVlqX"
      },
      "source": [
        "class myRBF:\n",
        "\n",
        "    def __init__(self, k=2, lr=0.01, epochs=100, rbf=gussian):\n",
        "\n",
        "      self.k = k\n",
        "      self.lr = lr\n",
        "      self.epochs = epochs\n",
        "      self.rbf = rbf\n",
        "      self.w = np.random.randn(k)\n",
        "      self.b = np.random.randn(1)\n",
        "\n",
        "    def fit(self, X, y):\n",
        "      self.centers= KMeans(X, self.k)\n",
        "\n",
        "      for i in range(self.centers.shape[0]):\n",
        "        print(f'center{i+1}: {self.centers[i]}')\n",
        "      \n",
        "      dMax = max([np.abs(c1 - c2) for c1 in self.centers for c2 in self.centers])\n",
        "      self.stds = np.repeat(dMax / np.sqrt(2*self.k), self.k)\n",
        "      \n",
        "      print('\\n (dmax)standard deviation is:{0:.4f}'.format(dMax))\n",
        "\n",
        "      for epoch in range(self.epochs):\n",
        "\n",
        "          for i in range(X.shape[0]):   # forward pass\n",
        "              a = np.array([self.rbf(X[i], c, s) for c, s, in zip(self.centers, self.stds)])\n",
        "              a=a.T\n",
        "              F = a.dot(self.w) + self.b\n",
        "\n",
        "              error = -(y[i] - F).flatten()   \n",
        "\n",
        "              self.w = self.w - self.lr * a * error   #updating\n",
        "              self.b = self.b - self.lr * error\n",
        "\n",
        "    def predict(self, X):\n",
        "\n",
        "          ypred = []\n",
        "          for i in range(X.shape[0]):\n",
        "              a = np.array([self.rbf(X[i], c, s) for c, s, in zip(self.centers, self.stds)])\n",
        "              a=a.T\n",
        "              F = a.dot(self.w) + self.b\n",
        "              ypred.append(F)\n",
        "          return np.array(ypred)\n",
        "\n"
      ],
      "execution_count": null,
      "outputs": []
    },
    {
      "cell_type": "code",
      "metadata": {
        "colab": {
          "base_uri": "https://localhost:8080/",
          "height": 841
        },
        "id": "KRFACfVSeY-q",
        "outputId": "fa623057-708f-4f35-9c28-631f6e80cdb8"
      },
      "source": [
        "n = 100\n",
        "ep = 500;\n",
        "\n",
        "X = np.linspace(-2, 2, n)\n",
        "y = np.sin(2*np.pi * X/4) \n",
        "\n",
        "rbf1 = myRBF(k=5,epochs=ep)\n",
        "rbf1.fit(X, y)\n",
        "print('\\nResult is: ')\n",
        "plt.plot(X, y, 'r', label='Model')\n",
        "plt.plot(X, rbf1.predict(X), 'b', label='RBF fitting')\n",
        "plt.legend()\n",
        "plt.show()\n",
        "\n",
        "\n",
        "X = np.linspace(-2, 2, n)\n",
        "y = np.sin(2*np.pi * X/4) + 0.1 * np.random.randn(n)\n",
        "\n",
        "rbf2 = myRBF(k=5,epochs=ep)\n",
        "rbf2.fit(X, y)\n",
        "print('\\nResult is: ')\n",
        "plt.plot(X, y, 'r', label='Noisy Model')\n",
        "plt.plot(X, rbf2.predict(X), 'b', label='RBF fitting')\n",
        "plt.legend()\n",
        "plt.show()"
      ],
      "execution_count": null,
      "outputs": [
        {
          "output_type": "stream",
          "name": "stdout",
          "text": [
            "center1: 0.020202020202020363\n",
            "center2: -0.8080808080808082\n",
            "center3: 1.6363636363636367\n",
            "center4: -1.616161616161616\n",
            "center5: 0.8484848484848488\n",
            "\n",
            " (dmax)standard deviation is:3.2525\n",
            "\n",
            "Result is: \n"
          ]
        },
        {
          "output_type": "display_data",
          "data": {
            "image/png": "[encoded data removed]",
            "text/plain": [
              "<Figure size 432x288 with 1 Axes>"
            ]
          },
          "metadata": {
            "needs_background": "light"
          }
        },
        {
          "output_type": "stream",
          "name": "stdout",
          "text": [
            "center1: -1.5555555555555554\n",
            "center2: 1.676767676767677\n",
            "center3: 0.2020202020202022\n",
            "center4: 0.9696969696969701\n",
            "center5: -0.6464646464646463\n",
            "\n",
            " (dmax)standard deviation is:3.2323\n",
            "\n",
            "Result is: \n"
          ]
        },
        {
          "output_type": "display_data",
          "data": {
            "image/png": "[encoded data removed]",
            "text/plain": [
              "<Figure size 432x288 with 1 Axes>"
            ]
          },
          "metadata": {
            "needs_background": "light"
          }
        }
      ]
    },
    {
      "cell_type": "code",
      "source": [
        "import matplotlib.pyplot as plt\n",
        "import numpy as np\n",
        "from sklearn.datasets import make_gaussian_quantiles\n",
        "from sklearn.svm import SVC\n",
        "from sklearn.model_selection import train_test_split\n",
        "from sklearn.metrics import plot_confusion_matrix, accuracy_score\n",
        "from mlxtend.plotting import plot_decision_regions\n",
        "from sklearn.datasets import make_blobs\n",
        "\n",
        "\n",
        "\n",
        "# Generate data\n",
        "\n",
        "X, y = make_blobs(n_features=2, centers=2)\n",
        "\n",
        "\n",
        "# Split into training and testing data\n",
        "X_train, X_test, y_train, y_test = train_test_split(X, y, test_size=0.33, random_state=50)\n",
        "\n",
        "# Create the SVM\n",
        "svm = SVC(random_state=50, kernel='rbf')\n",
        "\n",
        "# Fit the data to the SVM classifier\n",
        "svm = svm.fit(X_train, y_train)\n",
        "\n",
        "# Generate predictions\n",
        "y_pred = svm.predict(X_test)\n",
        "\n",
        "# Evaluate by means of accuracy\n",
        "accuracy = accuracy_score(y_test, y_pred)\n",
        "print(f'Model accuracy: {accuracy}')\n",
        "\n",
        "# Plot decision boundary\n",
        "plot_decision_regions(X_test, y_test, clf=svm, legend=2)\n",
        "plt.show()\n",
        "\n",
        "\n",
        "# Generate data\n",
        "# X, _ = make_blobs(n_samples = num_samples_total, centers = cluster_centers, n_features = num_classes, center_box=(0, 1), cluster_std = 0.30)\n",
        "\n",
        "# rbf3 = myRBF(k=5,epochs=ep)\n",
        "# rbf3.fit(X, y)\n",
        "# print('\\nResult is: ')\n",
        "# plt.plot(X, y, 'r', label='Model')\n",
        "# plt.plot(X, rbf1.predict(X), 'b', label='RBF fitting')\n",
        "# plt.legend()\n",
        "# plt.show()\n",
        "\n",
        "\n",
        "\n",
        "# plt.plot(X[:,0],X[:,1],'ro')"
      ],
      "metadata": {
        "colab": {
          "base_uri": "https://localhost:8080/",
          "height": 320
        },
        "id": "1Yi1p0kM8CYM",
        "outputId": "15826f4d-a69e-4831-9126-16ac9a72d30d"
      },
      "execution_count": null,
      "outputs": [
        {
          "output_type": "stream",
          "name": "stdout",
          "text": [
            "Model accuracy: 1.0\n"
          ]
        },
        {
          "output_type": "stream",
          "name": "stderr",
          "text": [
            "/usr/local/lib/python3.7/dist-packages/mlxtend/plotting/decision_regions.py:244: MatplotlibDeprecationWarning: Passing unsupported keyword arguments to axis() will raise a TypeError in 3.3.\n",
            "  ax.axis(xmin=xx.min(), xmax=xx.max(), y_min=yy.min(), y_max=yy.max())\n"
          ]
        },
        {
          "output_type": "display_data",
          "data": {
            "image/png": "[encoded data removed]",
            "text/plain": [
              "<Figure size 432x288 with 1 Axes>"
            ]
          },
          "metadata": {
            "needs_background": "light"
          }
        }
      ]
    },
    {
      "cell_type": "code",
      "metadata": {
        "colab": {
          "base_uri": "https://localhost:8080/",
          "height": 320
        },
        "id": "Ywv1-IdypO3Y",
        "outputId": "44e42b52-6efb-4233-ff25-37ccf2670a58"
      },
      "source": [
        "import matplotlib.pyplot as plt\n",
        "import numpy as np\n",
        "from sklearn.datasets import make_gaussian_quantiles\n",
        "from sklearn.svm import SVC\n",
        "from sklearn.model_selection import train_test_split\n",
        "from sklearn.metrics import plot_confusion_matrix, accuracy_score\n",
        "from mlxtend.plotting import plot_decision_regions\n",
        "\n",
        "\n",
        "\n",
        "# Generate data\n",
        "X, y = make_gaussian_quantiles(n_features=2, n_classes=2, n_samples=300, mean=(2,3))\n",
        "\n",
        "# Split into training and testing data\n",
        "X_train, X_test, y_train, y_test = train_test_split(X, y, test_size=0.33, random_state=42)\n",
        "\n",
        "# Create the SVM\n",
        "svm = SVC(random_state=42, kernel='rbf')\n",
        "\n",
        "# Fit the data to the SVM classifier\n",
        "svm = svm.fit(X_train, y_train)\n",
        "\n",
        "# Generate predictions\n",
        "y_pred = svm.predict(X_test)\n",
        "\n",
        "# Evaluate by means of accuracy\n",
        "accuracy = accuracy_score(y_test, y_pred)\n",
        "print(f'Model accuracy: {accuracy}')\n",
        "\n",
        "# Plot decision boundary\n",
        "plot_decision_regions(X_test, y_test, clf=svm, legend=2)\n",
        "plt.show()\n",
        "\n",
        "\n",
        "# Generate data\n",
        "# X, _ = make_blobs(n_samples = num_samples_total, centers = cluster_centers, n_features = num_classes, center_box=(0, 1), cluster_std = 0.30)\n",
        "\n",
        "# rbf3 = myRBF(k=5,epochs=ep)\n",
        "# rbf3.fit(X, y)\n",
        "# print('\\nResult is: ')\n",
        "# plt.plot(X, y, 'r', label='Model')\n",
        "# plt.plot(X, rbf1.predict(X), 'b', label='RBF fitting')\n",
        "# plt.legend()\n",
        "# plt.show()\n",
        "\n",
        "\n",
        "\n",
        "# plt.plot(X[:,0],X[:,1],'ro')"
      ],
      "execution_count": null,
      "outputs": [
        {
          "output_type": "stream",
          "name": "stdout",
          "text": [
            "Model accuracy: 0.9494949494949495\n"
          ]
        },
        {
          "output_type": "stream",
          "name": "stderr",
          "text": [
            "/usr/local/lib/python3.7/dist-packages/mlxtend/plotting/decision_regions.py:244: MatplotlibDeprecationWarning: Passing unsupported keyword arguments to axis() will raise a TypeError in 3.3.\n",
            "  ax.axis(xmin=xx.min(), xmax=xx.max(), y_min=yy.min(), y_max=yy.max())\n"
          ]
        },
        {
          "output_type": "display_data",
          "data": {
            "image/png": "[encoded data removed]",
            "text/plain": [
              "<Figure size 432x288 with 1 Axes>"
            ]
          },
          "metadata": {
            "needs_background": "light"
          }
        }
      ]
    },
    {
      "cell_type": "code",
      "metadata": {
        "id": "01dKtN2Nxrp0"
      },
      "source": [
        ""
      ],
      "execution_count": null,
      "outputs": []
    }
  ]
}